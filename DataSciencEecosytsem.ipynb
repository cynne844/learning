{
 "cells": [
  {
   "cell_type": "markdown",
   "id": "4fb9eb73-ae78-4c49-ab67-165f4c0b0c44",
   "metadata": {},
   "source": [
    "# Data Science Tools and Ecosystem"
   ]
  },
  {
   "cell_type": "markdown",
   "id": "0f94e9b2-b4c1-4e56-a9e3-046f316346a0",
   "metadata": {},
   "source": [
    "Objectives:\n",
    "- List popular languages for data science\n",
    "- List tools that support Data science\n",
    "- List open source tools for data science"
   ]
  },
  {
   "cell_type": "markdown",
   "id": "d288d343-9d62-4298-8999-46fcba601119",
   "metadata": {},
   "source": [
    "In this notebook, Data Science Tools and Ecosystem are summarized."
   ]
  },
  {
   "cell_type": "markdown",
   "id": "673e7226-8a83-45f6-9c71-811a3d75a177",
   "metadata": {},
   "source": [
    "Some of the popular langauges Data Scientists use are:\n",
    "1. Python\n",
    "2. Java\n",
    "3. Scala\n",
    "4. C++\n",
    "5. SQL\n",
    "  "
   ]
  },
  {
   "cell_type": "markdown",
   "id": "58ace928-13eb-4919-adb7-400331c1281a",
   "metadata": {},
   "source": [
    "Some of the commonly used libraries used by Data Scientists are:\n",
    "1. Scikit\n",
    "2. Tensor\n",
    "3. Keras\n",
    "4. Pandas\n",
    "5. Numpy"
   ]
  },
  {
   "cell_type": "markdown",
   "id": "ac7d4949-2225-4270-a2e4-bdb7fa40ea5c",
   "metadata": {},
   "source": [
    "|Data Science Tools|Apache Spark|Apache Airflow|Kube flow|\n",
    "|-----|------|------|------|\n"
   ]
  },
  {
   "cell_type": "markdown",
   "id": "518524e5-3fd7-4126-b0d4-a27f43ea2359",
   "metadata": {},
   "source": [
    "### Below are a few examples of evaluating arithmetic expressions in Python"
   ]
  },
  {
   "cell_type": "code",
   "execution_count": 1,
   "id": "fca210ed-e03d-44cf-8d9b-928318fa0359",
   "metadata": {
    "tags": []
   },
   "outputs": [
    {
     "data": {
      "text/plain": [
       "17"
      ]
     },
     "execution_count": 1,
     "metadata": {},
     "output_type": "execute_result"
    }
   ],
   "source": [
    "(3*4)+5\n",
    "# This a simple arithmetic expression to mutiply then add integers"
   ]
  },
  {
   "cell_type": "code",
   "execution_count": 9,
   "id": "46594896-c45f-4276-98f8-f9b472034e2b",
   "metadata": {
    "tags": []
   },
   "outputs": [
    {
     "name": "stdout",
     "output_type": "stream",
     "text": [
      "3.3333333333333335\n"
     ]
    }
   ],
   "source": [
    "minutes = 200/60\n",
    "print(minutes)\n",
    "\n",
    "#  This will convert 200 minutes to hours by diving by 60"
   ]
  },
  {
   "cell_type": "markdown",
   "id": "482c305a-2e83-4911-b76d-a5c6b8894608",
   "metadata": {},
   "source": [
    "## Author\n",
    "Cynthia"
   ]
  },
  {
   "cell_type": "code",
   "execution_count": null,
   "id": "b4dc0534-1b0b-44fa-8fcd-388587c43e3a",
   "metadata": {},
   "outputs": [],
   "source": []
  },
  {
   "cell_type": "code",
   "execution_count": null,
   "id": "c3993c5e-7bb9-4e60-81eb-269cf3da0272",
   "metadata": {},
   "outputs": [],
   "source": []
  }
 ],
 "metadata": {
  "kernelspec": {
   "display_name": "Python 3 (ipykernel)",
   "language": "python",
   "name": "python3"
  },
  "language_info": {
   "codemirror_mode": {
    "name": "ipython",
    "version": 3
   },
   "file_extension": ".py",
   "mimetype": "text/x-python",
   "name": "python",
   "nbconvert_exporter": "python",
   "pygments_lexer": "ipython3",
   "version": "3.11.5"
  }
 },
 "nbformat": 4,
 "nbformat_minor": 5
}
